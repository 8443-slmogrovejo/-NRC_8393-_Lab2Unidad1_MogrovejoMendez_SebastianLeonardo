{
  "cells": [
    {
      "cell_type": "markdown",
      "id": "3d59342e",
      "metadata": {
        "id": "3d59342e"
      },
      "source": [
        "# AGENTES FINANCIEROS - \"The Club Benefits Programme\" FIFA"
      ]
    },
    {
      "cell_type": "markdown",
      "id": "76e065cb",
      "metadata": {
        "id": "76e065cb"
      },
      "source": [
        "Los agentes financieros dentro de nuestro proyecto tendran la función de entregar el monto acordado a los diferentes Clubes instalados en los diferentes paises."
      ]
    },
    {
      "cell_type": "markdown",
      "id": "c6482288",
      "metadata": {
        "id": "c6482288"
      },
      "source": [
        "# Construcción del conjunto de datos"
      ]
    },
    {
      "cell_type": "markdown",
      "id": "d02a8e8d",
      "metadata": {
        "id": "d02a8e8d"
      },
      "source": [
        "Para codificar, comience importando las siguientes bibliotecas:"
      ]
    },
    {
      "cell_type": "code",
      "execution_count": 31,
      "id": "97b3d6da",
      "metadata": {
        "colab": {
          "base_uri": "https://localhost:8080/"
        },
        "id": "97b3d6da",
        "outputId": "d5e33084-9c7b-43f6-d590-c1f6fd11f5ae"
      },
      "outputs": [
        {
          "output_type": "stream",
          "name": "stdout",
          "text": [
            "Looking in indexes: https://pypi.org/simple, https://us-python.pkg.dev/colab-wheels/public/simple/\n",
            "Requirement already satisfied: Faker in /usr/local/lib/python3.7/dist-packages (15.3.3)\n",
            "Requirement already satisfied: typing-extensions>=3.10.0.1 in /usr/local/lib/python3.7/dist-packages (from Faker) (4.1.1)\n",
            "Requirement already satisfied: python-dateutil>=2.4 in /usr/local/lib/python3.7/dist-packages (from Faker) (2.8.2)\n",
            "Requirement already satisfied: six>=1.5 in /usr/local/lib/python3.7/dist-packages (from python-dateutil>=2.4->Faker) (1.15.0)\n"
          ]
        }
      ],
      "source": [
        "#Instalamos Faker debido a que no viene instalado por defecto en Colab\n",
        "!pip install Faker\n",
        "#Importamos pandas para manejo de dataframes\n",
        "import pandas as pd\n",
        "#Importamos uuid para que solo exista 1 ID\n",
        "import uuid\n",
        "#Importamos random para la asignacion de datos randómicos\n",
        "import random\n",
        "#Importamos Faker para hacer uso de su recreacion de datos\n",
        "from faker import Faker\n",
        "#Importamos fecha para el manejo de fechas\n",
        "import datetime"
      ]
    },
    {
      "cell_type": "markdown",
      "id": "db21c16c",
      "metadata": {
        "id": "db21c16c"
      },
      "source": [
        "**Size**"
      ]
    },
    {
      "cell_type": "markdown",
      "id": "44ce2a03",
      "metadata": {
        "id": "44ce2a03"
      },
      "source": [
        "El tamaño del conjunto de datos será de 5 000. Asigné esta cantidad a una variable constante, que usé en todo momento:"
      ]
    },
    {
      "cell_type": "code",
      "execution_count": 32,
      "id": "29f6b5ac",
      "metadata": {
        "id": "29f6b5ac"
      },
      "outputs": [],
      "source": [
        "num_agents = 5000"
      ]
    },
    {
      "cell_type": "markdown",
      "id": "4f8ba686",
      "metadata": {
        "id": "4f8ba686"
      },
      "source": [
        "**Características**"
      ]
    },
    {
      "cell_type": "markdown",
      "id": "555a14da",
      "metadata": {
        "id": "555a14da"
      },
      "source": [
        "Elegí 8 características que dispondra el agente para interactuar con los clubes. Estas características y los respectivos tipos de datos son:\n",
        "\n",
        "     - ID: una cadena única de caracteres para identificar a cada usuario.\n",
        "     - Gender (Sexo:) tipo de datos de cadena de tres opciones.\n",
        "     - Subscriber (Suscriptor:) una opción binaria Verdadero/Falso de su estado de disponibilidad.\n",
        "     - Name (Nombre:) tipo de datos de cadena del nombre y apellido del usuario.\n",
        "     - Email (Correo electrónico:) tipo de datos de cadena de la dirección de correo electrónico del usuario.\n",
        "     - Country (País:) tipo de dato cadena, el país donde se encuentra el agente.\n",
        "     - bank_country (País del proveedor del banco:) Tipo cadena, genere el código de país ISO 3166-1 alfa-2 del proveedor del banco.\n",
        "     - bank_Acc_Num (Número de cuenta del banco:) tipo cadena, serie de número de cuenta del banco del agente."
      ]
    },
    {
      "cell_type": "markdown",
      "id": "17841653",
      "metadata": {
        "id": "17841653"
      },
      "source": [
        "Ingresé lo anterior como una lista de características para inicializar un marco de datos de Pandas:"
      ]
    },
    {
      "cell_type": "code",
      "execution_count": 33,
      "id": "5a145d81",
      "metadata": {
        "id": "5a145d81"
      },
      "outputs": [],
      "source": [
        "# Lista de 8 atributos/features para los agente financiero.\n",
        "features = [\n",
        "    #ID: una cadena única de caracteres para identificar a cada agente financiero.\n",
        "    \"id\",\n",
        "    #Gender (Sexo:) tipo de datos de cadena de tres opciones.\n",
        "    \"gender\",\n",
        "    #Subscriber (Suscriptor:) una opción binaria Verdadero/Falso de su estado de disponibilidad.\n",
        "    \"subscriber\",\n",
        "    #Name (Nombre:) tipo de datos de cadena del nombre y apellido del usuario.\n",
        "    \"name\",\n",
        "    #Country (País:) tipo de dato cadena, el país donde se encuentra el agente.\n",
        "    \"email\",\n",
        "    #Country (País:) tipo de dato cadena, el país donde se encuentra el agente.\n",
        "    \"country\",\n",
        "    #bank_country (País del proveedor del banco:) Tipo cadena, genere el código de país ISO 3166-1 alfa-2 del proveedor del banco.\n",
        "    \"bank_country\",\n",
        "    #bank_Acc_Num (Número de cuenta del banco:) tipo cadena, serie de número de cuenta del banco del agente.\n",
        "    \"bank_Acc_Num\"\n",
        "]# Generemos el dataframe donde estarán presentes\n",
        "df = pd.DataFrame(columns=features)"
      ]
    },
    {
      "cell_type": "markdown",
      "id": "32e7f58f",
      "metadata": {
        "id": "32e7f58f"
      },
      "source": [
        "**Creación de datos**"
      ]
    },
    {
      "cell_type": "markdown",
      "id": "6707781a",
      "metadata": {
        "id": "6707781a"
      },
      "source": [
        "**IDs**"
      ]
    },
    {
      "cell_type": "markdown",
      "id": "57be8b83",
      "metadata": {
        "id": "57be8b83"
      },
      "source": [
        "Para el atributo ID, utilicé la biblioteca uuid para generar una cadena aleatoria de caracteres 5000 veces. Luego, lo asigné al atributo ID en el marco de datos."
      ]
    },
    {
      "cell_type": "code",
      "execution_count": 34,
      "id": "9417eb1d",
      "metadata": {
        "id": "9417eb1d"
      },
      "outputs": [],
      "source": [
        "# Definimos en ID la función uuid para el análisis de cada uno de los 5000 datos\n",
        "df['id'] = [uuid.uuid4().hex for i in range(num_agents)]"
      ]
    },
    {
      "cell_type": "markdown",
      "id": "92e30db5",
      "metadata": {
        "id": "92e30db5"
      },
      "source": [
        "**UUID es una gran biblioteca para generar identificaciones únicas para cada usuario debido a su posibilidad astronómicamente baja de duplicar una identificación.** Es una gran opción cuando se trata de generar conjuntos de caracteres de identificación únicos. Pero, si desea asegurarse de que no se repitieron las ID, puede realizar una verificación simple en el marco de datos con lo siguiente:"
      ]
    },
    {
      "cell_type": "code",
      "execution_count": 35,
      "id": "4be6d244",
      "metadata": {
        "colab": {
          "base_uri": "https://localhost:8080/"
        },
        "id": "4be6d244",
        "outputId": "5bd69357-4736-492a-ed29-39cf50b650c8"
      },
      "outputs": [
        {
          "output_type": "stream",
          "name": "stdout",
          "text": [
            "True\n"
          ]
        }
      ],
      "source": [
        "print(df['id'].nunique()==num_agents)"
      ]
    },
    {
      "cell_type": "markdown",
      "id": "a14229fb",
      "metadata": {
        "id": "a14229fb"
      },
      "source": [
        "Esto devolverá True si todas las ID en el conjunto de datos son únicas."
      ]
    },
    {
      "cell_type": "markdown",
      "id": "e42be811",
      "metadata": {
        "id": "e42be811"
      },
      "source": [
        "**Gender**"
      ]
    },
    {
      "cell_type": "markdown",
      "id": "a189353d",
      "metadata": {
        "id": "a189353d"
      },
      "source": [
        "**Este atributo es uno de los casos en los que probablemente no se debería utilizar una elección igualmente aleatoria. Porque se puede suponer con seguridad que cada elección no tiene la misma probabilidad de ocurrir.**\n",
        "\n",
        "Para el género, proporcioné tres opciones: masculino, femenino y na."
      ]
    },
    {
      "cell_type": "code",
      "execution_count": 36,
      "id": "53792c85",
      "metadata": {
        "id": "53792c85"
      },
      "outputs": [],
      "source": [
        "genders = [\"Hombre\", \"Mujer\", \"No Binario\"]"
      ]
    },
    {
      "cell_type": "code",
      "execution_count": 37,
      "id": "bc4eb9a8",
      "metadata": {
        "id": "bc4eb9a8"
      },
      "outputs": [],
      "source": [
        "df['gender'] = random.choices(\n",
        "    genders, \n",
        "    weights=(47,47,6), \n",
        "    k=num_agents\n",
        ")"
      ]
    },
    {
      "cell_type": "markdown",
      "id": "57f6abcf",
      "metadata": {
        "id": "57f6abcf"
      },
      "source": [
        "**Subscriber**"
      ]
    },
    {
      "cell_type": "markdown",
      "source": [
        "Se asigno una selección randómica para determinar que agentes estan ocupados o disponibles."
      ],
      "metadata": {
        "id": "OX9FFpmnPOj-"
      },
      "id": "OX9FFpmnPOj-"
    },
    {
      "cell_type": "code",
      "execution_count": 38,
      "id": "63766ad3",
      "metadata": {
        "id": "63766ad3"
      },
      "outputs": [],
      "source": [
        "choice = [True, False]\n",
        "df['subscriber'] = random.choices(\n",
        "    choice, \n",
        "    k=num_agents\n",
        ")"
      ]
    },
    {
      "cell_type": "markdown",
      "id": "fd9b2e7f",
      "metadata": {
        "id": "fd9b2e7f"
      },
      "source": [
        "**Name**"
      ]
    },
    {
      "cell_type": "markdown",
      "id": "f5a065c3",
      "metadata": {
        "id": "f5a065c3"
      },
      "source": [
        "Aquí usé la biblioteca Faker para crear miles de nombres para todos estos usuarios. **La biblioteca Faker es excelente en esta situación porque tiene una opción para nombres masculinos y femeninos.**}} Para procesar los nombres de género, creé una función para asignar nombres en función de un género determinado."
      ]
    },
    {
      "cell_type": "code",
      "execution_count": 39,
      "id": "b3fd6f7f",
      "metadata": {
        "id": "b3fd6f7f"
      },
      "outputs": [],
      "source": [
        "# Instantiating faker\n",
        "faker = Faker()\n",
        "\n",
        "def name_gen(gender):\n",
        "    \"\"\"\n",
        "    Parametros\n",
        "    ----------\n",
        "    genero\n",
        "        Recibe el genero \n",
        "    Procedimiento\n",
        "    -------------\n",
        "        Genera un nombre en base a si el dato es masculino o femenino\n",
        "    Retorna\n",
        "    -------\n",
        "        El nombre asignado\n",
        "    \"\"\"\n",
        "    #Condicional para determinar si es hombre o mujer\n",
        "    if gender=='Hombre':\n",
        "        return faker.name_male()\n",
        "    elif gender=='Mujer':\n",
        "        return faker.name_female()\n",
        "    \n",
        "    return faker.name()# Genera los nombres para cada usuario\n",
        "# Guarda los datos en el data frame en base a los generos asignados\n",
        "df['name'] = [name_gen(i) for i in df['gender']]"
      ]
    },
    {
      "cell_type": "markdown",
      "id": "4ae541de",
      "metadata": {
        "id": "4ae541de"
      },
      "source": [
        "**Email**"
      ]
    },
    {
      "cell_type": "markdown",
      "id": "e81f6c90",
      "metadata": {
        "id": "e81f6c90"
      },
      "source": [
        "Se creo una nueva función que daría formato a los nombres en direcciones de correo electrónico con un nombre de dominio predeterminado. La asignación del dominio sería exclusivo de la FIFA. También manejaría direcciones duplicadas simplemente agregando un número aleatorio al final del nombre formateado:"
      ]
    },
    {
      "cell_type": "code",
      "execution_count": 40,
      "id": "670b3855",
      "metadata": {
        "id": "670b3855"
      },
      "outputs": [],
      "source": [
        "def emailGen(name, duplicateFound=False):\n",
        "    \"\"\"\n",
        "    Generates a random email address based on the given name. \n",
        "    Adds a number at the end if a duplicate address was found.\n",
        "    \"\"\"\n",
        "    # Fake domain name to use\n",
        "    dom = \"@fifa.org\"\n",
        "    \n",
        "    # Lowercasing and splitting\n",
        "    name = name.lower().split(\" \")\n",
        "    \n",
        "    # Random character to insert in the name\n",
        "    chars = [\".\", \"_\"]\n",
        "    \n",
        "    new_name = name[0] + random.choice(chars) + name[1] \n",
        "    \n",
        "    # Further distinguishing the email if a duplicate was found\n",
        "    if duplicateFound:\n",
        "        \n",
        "        # Random number to insert at the end\n",
        "        num = random.randint(0,100)\n",
        "        \n",
        "        # Inserting at the end\n",
        "        new_name = new_name + str(num)\n",
        "        \n",
        "    # Returning the email address with the domain name attached\n",
        "    return new_name + dom"
      ]
    },
    {
      "cell_type": "markdown",
      "id": "c488a9f8",
      "metadata": {
        "id": "c488a9f8"
      },
      "source": [
        "Ahora, para aprovechar adecuadamente el propósito de esta función, creé un ciclo que volvería a ejecutar la función cuando fuera necesario mientras iteraba a través del atributo \"Nombre\". El ciclo seguiría volviendo a ejecutar la función hasta que se creara un nombre de correo electrónico único."
      ]
    },
    {
      "cell_type": "code",
      "execution_count": 41,
      "id": "97cd6b45",
      "metadata": {
        "id": "97cd6b45"
      },
      "outputs": [],
      "source": [
        "emails = []\n",
        "\n",
        "for name in df['name']:\n",
        "    \n",
        "    # Generating the email\n",
        "    email = emailGen(name)\n",
        "    \n",
        "    # Looping until a unique email is generated\n",
        "    while email in emails:\n",
        "        \n",
        "        # Creating an email with a random number\n",
        "        email = emailGen(name, duplicateFound=True)\n",
        "    \n",
        "    # Attaching the new email to the list\n",
        "    emails.append(email)\n",
        "    \n",
        "df['email'] = emails"
      ]
    },
    {
      "cell_type": "markdown",
      "id": "813169e8",
      "metadata": {
        "id": "813169e8"
      },
      "source": [
        "Después de generar todos los correos electrónicos, los asigné al atributo \"Correo electrónico\" del marco de datos. También puede hacer una verificación opcional para ver que cada correo electrónico sea único con el mismo método que las ID."
      ]
    },
    {
      "cell_type": "markdown",
      "source": [
        "**Country**"
      ],
      "metadata": {
        "id": "HoM2MUrKLWq5"
      },
      "id": "HoM2MUrKLWq5"
    },
    {
      "cell_type": "markdown",
      "source": [
        "Se asigno a la columna country los 5000 datos del tamaño del arreglo."
      ],
      "metadata": {
        "id": "qQSku41hLinh"
      },
      "id": "qQSku41hLinh"
    },
    {
      "cell_type": "code",
      "source": [
        "faker = Faker()\n",
        "df['country'] = [faker.country() for i in range(num_agents)]"
      ],
      "metadata": {
        "id": "_g71MQ7kLjrQ"
      },
      "id": "_g71MQ7kLjrQ",
      "execution_count": 42,
      "outputs": []
    },
    {
      "cell_type": "markdown",
      "source": [
        "**Bank_Country**"
      ],
      "metadata": {
        "id": "WNdtzxn5KTOR"
      },
      "id": "WNdtzxn5KTOR"
    },
    {
      "cell_type": "markdown",
      "source": [
        "Con la función bank_country de faker se asigno una a cada agente dependiendo del país en el que se encuentre."
      ],
      "metadata": {
        "id": "m-p0WNXHKUHA"
      },
      "id": "m-p0WNXHKUHA"
    },
    {
      "cell_type": "code",
      "source": [
        "faker = Faker()\n",
        "df['bank_country'] = [faker.bank_country() for i in range(num_agents)]"
      ],
      "metadata": {
        "id": "ZoO4hdKXKZZx"
      },
      "id": "ZoO4hdKXKZZx",
      "execution_count": 43,
      "outputs": []
    },
    {
      "cell_type": "markdown",
      "source": [
        "**Bank_Acc_Num**"
      ],
      "metadata": {
        "id": "pAsmgJJfMGbA"
      },
      "id": "pAsmgJJfMGbA"
    },
    {
      "cell_type": "markdown",
      "source": [
        "Por el comando faker.iban() generamos números de cuentas de bancos internacionales para que estos dispongan de los fondos de la FIFA."
      ],
      "metadata": {
        "id": "B11eS-LSMGkP"
      },
      "id": "B11eS-LSMGkP"
    },
    {
      "cell_type": "code",
      "source": [
        "faker = Faker()\n",
        "df['bank_Acc_Num'] = [faker.iban() for i in range(num_agents)]"
      ],
      "metadata": {
        "id": "542HkJDRMM0v"
      },
      "id": "542HkJDRMM0v",
      "execution_count": 44,
      "outputs": []
    },
    {
      "cell_type": "markdown",
      "id": "545e8963",
      "metadata": {
        "id": "545e8963"
      },
      "source": [
        "**Saving the Dataset**"
      ]
    },
    {
      "cell_type": "markdown",
      "id": "743e5aed",
      "metadata": {
        "id": "743e5aed"
      },
      "source": [
        "Una vez generado los datos, los guardamos en un archivo csv para verlos representados."
      ]
    },
    {
      "cell_type": "code",
      "execution_count": 45,
      "id": "b746f91d",
      "metadata": {
        "id": "b746f91d"
      },
      "outputs": [],
      "source": [
        "df.to_csv('dataset_agents.csv')"
      ]
    },
    {
      "cell_type": "code",
      "execution_count": 45,
      "id": "ea5400f3",
      "metadata": {
        "id": "ea5400f3"
      },
      "outputs": [],
      "source": []
    }
  ],
  "metadata": {
    "kernelspec": {
      "display_name": "Python 3 (ipykernel)",
      "language": "python",
      "name": "python3"
    },
    "language_info": {
      "codemirror_mode": {
        "name": "ipython",
        "version": 3
      },
      "file_extension": ".py",
      "mimetype": "text/x-python",
      "name": "python",
      "nbconvert_exporter": "python",
      "pygments_lexer": "ipython3",
      "version": "3.9.7"
    },
    "colab": {
      "provenance": []
    }
  },
  "nbformat": 4,
  "nbformat_minor": 5
}