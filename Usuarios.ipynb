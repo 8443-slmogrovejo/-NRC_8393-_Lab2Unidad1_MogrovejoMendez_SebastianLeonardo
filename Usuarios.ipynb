{
  "cells": [
    {
      "cell_type": "markdown",
      "id": "3d59342e",
      "metadata": {
        "id": "3d59342e"
      },
      "source": [
        "# USUARIOS - \"The Club Benefits Programme\" FIFA"
      ]
    },
    {
      "cell_type": "markdown",
      "id": "76e065cb",
      "metadata": {
        "id": "76e065cb"
      },
      "source": [
        "Crearemos los usuarios que utilizaran la plataforma para almacenar el monto que cada uno de los jugadores acumule."
      ]
    },
    {
      "cell_type": "markdown",
      "id": "c6482288",
      "metadata": {
        "id": "c6482288"
      },
      "source": [
        "# Construcción del conjunto de datos"
      ]
    },
    {
      "cell_type": "markdown",
      "id": "d02a8e8d",
      "metadata": {
        "id": "d02a8e8d"
      },
      "source": [
        "Para codificar, comience importando las siguientes bibliotecas:"
      ]
    },
    {
      "cell_type": "code",
      "execution_count": 1,
      "id": "97b3d6da",
      "metadata": {
        "colab": {
          "base_uri": "https://localhost:8080/"
        },
        "id": "97b3d6da",
        "outputId": "4febfa92-bea8-47c9-8718-432b87248009"
      },
      "outputs": [
        {
          "output_type": "stream",
          "name": "stdout",
          "text": [
            "Looking in indexes: https://pypi.org/simple, https://us-python.pkg.dev/colab-wheels/public/simple/\n",
            "Collecting Faker\n",
            "  Downloading Faker-15.3.3-py3-none-any.whl (1.6 MB)\n",
            "\u001b[K     |████████████████████████████████| 1.6 MB 4.2 MB/s \n",
            "\u001b[?25hRequirement already satisfied: python-dateutil>=2.4 in /usr/local/lib/python3.7/dist-packages (from Faker) (2.8.2)\n",
            "Requirement already satisfied: typing-extensions>=3.10.0.1 in /usr/local/lib/python3.7/dist-packages (from Faker) (4.1.1)\n",
            "Requirement already satisfied: six>=1.5 in /usr/local/lib/python3.7/dist-packages (from python-dateutil>=2.4->Faker) (1.15.0)\n",
            "Installing collected packages: Faker\n",
            "Successfully installed Faker-15.3.3\n"
          ]
        }
      ],
      "source": [
        "#Instalamos Faker debido a que no viene instalado por defecto en Colab\n",
        "!pip install Faker\n",
        "#Importamos pandas para manejo de dataframes\n",
        "import pandas as pd\n",
        "#Importamos uuid para que solo exista 1 ID\n",
        "import uuid\n",
        "#Importamos random para la asignacion de datos randómicos\n",
        "import random\n",
        "#Importamos Faker para hacer uso de su recreacion de datos\n",
        "from faker import Faker\n",
        "#Importamos fecha para el manejo de fechas\n",
        "import datetime"
      ]
    },
    {
      "cell_type": "markdown",
      "id": "db21c16c",
      "metadata": {
        "id": "db21c16c"
      },
      "source": [
        "**Size**"
      ]
    },
    {
      "cell_type": "markdown",
      "id": "44ce2a03",
      "metadata": {
        "id": "44ce2a03"
      },
      "source": [
        "El tamaño del conjunto de datos será de 5000 puntos de datos. Asigné esta cantidad a una variable constante, que usé en todo momento:"
      ]
    },
    {
      "cell_type": "code",
      "execution_count": 2,
      "id": "29f6b5ac",
      "metadata": {
        "id": "29f6b5ac"
      },
      "outputs": [],
      "source": [
        "num_users = 5000"
      ]
    },
    {
      "cell_type": "markdown",
      "id": "4f8ba686",
      "metadata": {
        "id": "4f8ba686"
      },
      "source": [
        "**Características**"
      ]
    },
    {
      "cell_type": "markdown",
      "id": "555a14da",
      "metadata": {
        "id": "555a14da"
      },
      "source": [
        "Elegí 8 características para cada usuario que vaya a interactuar con el sistema. Estas características y los respectivos tipos de datos son:\n",
        "\n",
        "     - ID: una cadena única de caracteres para identificar a cada usuario.\n",
        "     - Gender (Sexo:) tipo de datos de cadena de tres opciones.\n",
        "     - Role (Rol:) tipo de dato de cadena con 3 opciones: Administrador, trabajador y técnico.  \n",
        "     - status (Estado:) una opción binaria Verdadero/Falso de su estado de actividad.\n",
        "     - Name (Nombre:) tipo de datos de cadena del nombre y apellido del usuario.\n",
        "     - Email (Correo electrónico:) tipo de datos de cadena de la dirección de correo electrónico del usuario.\n",
        "     - Last Login (Último inicio de sesión:) tipo de datos de cadena de la última hora de inicio de sesión.\n",
        "     - Date of Birth (Fecha de nacimiento:) formato de cadena de año-mes-día."
      ]
    },
    {
      "cell_type": "markdown",
      "id": "17841653",
      "metadata": {
        "id": "17841653"
      },
      "source": [
        "Ingresé lo anterior como una lista de características para inicializar un marco de datos de Pandas:"
      ]
    },
    {
      "cell_type": "code",
      "execution_count": 3,
      "id": "5a145d81",
      "metadata": {
        "id": "5a145d81"
      },
      "outputs": [],
      "source": [
        "# Lista de 8 atributos/features para los usuarios\n",
        "features = [\n",
        "    #ID: una cadena única de caracteres para identificar a cada usuario.\n",
        "    \"id\",\n",
        "    #Gender (Sexo:) tipo de datos de cadena de tres opciones. Masculino, Femenino y No binario\n",
        "    \"gender\",\n",
        "    #Role (Rol:) tipo de dato de cadena con 3 opciones: Administrador, trabajador y técnico.\n",
        "    \"role\",\n",
        "    #status (Estado:) una opción binaria Verdadero/Falso de su estado de actividad.\n",
        "    \"status\",\n",
        "    #Name (Nombre:) tipo de datos de cadena del nombre y apellido del usuario.\n",
        "    \"name\",\n",
        "    #Email (Correo electrónico:) tipo de datos de cadena de la dirección de correo electrónico del usuario.\n",
        "    \"email\",\n",
        "    #Last Login (Último inicio de sesión:) tipo de datos de cadena de la última hora de inicio de sesión.\n",
        "    \"last_login\",\n",
        "    #Date of Birth (Fecha de nacimiento:) formato de cadena de año-mes-día.\n",
        "    \"dob\"\n",
        "]# Generemos el dataframe donde estarán presentes\n",
        "df = pd.DataFrame(columns=features)"
      ]
    },
    {
      "cell_type": "markdown",
      "id": "32e7f58f",
      "metadata": {
        "id": "32e7f58f"
      },
      "source": [
        "**Creación de datos**"
      ]
    },
    {
      "cell_type": "markdown",
      "id": "6707781a",
      "metadata": {
        "id": "6707781a"
      },
      "source": [
        "**IDs**"
      ]
    },
    {
      "cell_type": "markdown",
      "id": "57be8b83",
      "metadata": {
        "id": "57be8b83"
      },
      "source": [
        "Para el atributo ID, utilicé la biblioteca uuid para generar una cadena aleatoria de caracteres 100 000 veces. Luego, lo asigné al atributo ID en el marco de datos."
      ]
    },
    {
      "cell_type": "code",
      "execution_count": 4,
      "id": "9417eb1d",
      "metadata": {
        "id": "9417eb1d"
      },
      "outputs": [],
      "source": [
        "# Definimos en ID la función uuid para el análisis de cada uno de los 5000 datos\n",
        "df['id'] = [uuid.uuid4().hex for i in range(num_users)]"
      ]
    },
    {
      "cell_type": "markdown",
      "id": "92e30db5",
      "metadata": {
        "id": "92e30db5"
      },
      "source": [
        "**UUID es una gran biblioteca para generar identificaciones únicas para cada usuario debido a su posibilidad astronómicamente baja de duplicar una identificación.** Es una gran opción cuando se trata de generar conjuntos de caracteres de identificación únicos. Pero, si desea asegurarse de que no se repitieron las ID, puede realizar una verificación simple en el marco de datos con lo siguiente:"
      ]
    },
    {
      "cell_type": "code",
      "execution_count": 5,
      "id": "4be6d244",
      "metadata": {
        "colab": {
          "base_uri": "https://localhost:8080/"
        },
        "id": "4be6d244",
        "outputId": "cc61cbe8-dc85-4f2d-d553-58c4946ce047"
      },
      "outputs": [
        {
          "output_type": "stream",
          "name": "stdout",
          "text": [
            "True\n"
          ]
        }
      ],
      "source": [
        "print(df['id'].nunique()==num_users)"
      ]
    },
    {
      "cell_type": "markdown",
      "id": "a14229fb",
      "metadata": {
        "id": "a14229fb"
      },
      "source": [
        "Esto devolverá True si todas las ID en el conjunto de datos son únicas."
      ]
    },
    {
      "cell_type": "markdown",
      "id": "e42be811",
      "metadata": {
        "id": "e42be811"
      },
      "source": [
        "**Gender**"
      ]
    },
    {
      "cell_type": "markdown",
      "id": "a189353d",
      "metadata": {
        "id": "a189353d"
      },
      "source": [
        "**Este atributo es uno de los casos en los que probablemente no se debería utilizar una elección igualmente aleatoria. Porque se puede suponer con seguridad que cada elección no tiene la misma probabilidad de ocurrir.**\n",
        "\n",
        "Para el género, proporcioné tres opciones: masculino, femenino y No binario."
      ]
    },
    {
      "cell_type": "code",
      "execution_count": 6,
      "id": "53792c85",
      "metadata": {
        "id": "53792c85"
      },
      "outputs": [],
      "source": [
        "genders = [\"Hombre\", \"Mujer\", \"No Binario\"]"
      ]
    },
    {
      "cell_type": "code",
      "execution_count": 7,
      "id": "bc4eb9a8",
      "metadata": {
        "id": "bc4eb9a8"
      },
      "outputs": [],
      "source": [
        "df['gender'] = random.choices(\n",
        "    genders, \n",
        "    weights=(47,47,6), \n",
        "    k=num_users\n",
        ")"
      ]
    },
    {
      "cell_type": "markdown",
      "source": [
        "**Role**"
      ],
      "metadata": {
        "id": "uj6_3SRKfLeq"
      },
      "id": "uj6_3SRKfLeq"
    },
    {
      "cell_type": "markdown",
      "source": [
        "Se generaron los roles que pueden tomar cada uno de los usuarios mediante una asignación randómica. Estos siendo administrador del sistema, un trabajador común y el técnico del sistema."
      ],
      "metadata": {
        "id": "KBhsR70TfQ8F"
      },
      "id": "KBhsR70TfQ8F"
    },
    {
      "cell_type": "code",
      "source": [
        "roles = [\"Administrador\", \"Trabajador\", \"Tecnico\"]"
      ],
      "metadata": {
        "id": "_keZFHrGfTUo"
      },
      "id": "_keZFHrGfTUo",
      "execution_count": 8,
      "outputs": []
    },
    {
      "cell_type": "code",
      "source": [
        "df['role'] = random.choices(\n",
        "    roles, \n",
        "    weights=(30,60,10), \n",
        "    k=num_users\n",
        ")"
      ],
      "metadata": {
        "id": "mjuP058SfkA3"
      },
      "id": "mjuP058SfkA3",
      "execution_count": 9,
      "outputs": []
    },
    {
      "cell_type": "markdown",
      "id": "57f6abcf",
      "metadata": {
        "id": "57f6abcf"
      },
      "source": [
        "**Status**"
      ]
    },
    {
      "cell_type": "markdown",
      "id": "06faf5ef",
      "metadata": {
        "id": "06faf5ef"
      },
      "source": [
        "Para este atributo, las opciones se pueden seleccionar aleatoriamente entre Verdadero y Falso. Determinando su actividad en el trabajo."
      ]
    },
    {
      "cell_type": "code",
      "execution_count": 10,
      "id": "63766ad3",
      "metadata": {
        "id": "63766ad3"
      },
      "outputs": [],
      "source": [
        "choice = [True, False]\n",
        "df['status'] = random.choices(\n",
        "    choice, \n",
        "    k=num_users\n",
        ")"
      ]
    },
    {
      "cell_type": "markdown",
      "id": "fd9b2e7f",
      "metadata": {
        "id": "fd9b2e7f"
      },
      "source": [
        "**Name**"
      ]
    },
    {
      "cell_type": "markdown",
      "id": "f5a065c3",
      "metadata": {
        "id": "f5a065c3"
      },
      "source": [
        "Aquí usé la biblioteca Faker para crear miles de nombres para todos estos usuarios. **La biblioteca Faker es excelente en esta situación porque tiene una opción para nombres masculinos y femeninos.**}} Para procesar los nombres de género, creé una función para asignar nombres en función de un género determinado."
      ]
    },
    {
      "cell_type": "code",
      "execution_count": 11,
      "id": "b3fd6f7f",
      "metadata": {
        "id": "b3fd6f7f"
      },
      "outputs": [],
      "source": [
        "# Instantiating faker\n",
        "faker = Faker()\n",
        "\n",
        "def name_gen(gender):\n",
        "    \"\"\"\n",
        "    Parametros\n",
        "    ----------\n",
        "    genero\n",
        "        Recibe el genero \n",
        "    Procedimiento\n",
        "    -------------\n",
        "        Genera un nombre en base a si el dato es masculino o femenino\n",
        "    Retorna\n",
        "    -------\n",
        "        El nombre asignado\n",
        "    \"\"\"\n",
        "    #Condicional para determinar si es hombre o mujer\n",
        "    if gender=='Hombre':\n",
        "        return faker.name_male()\n",
        "    elif gender=='Mujer':\n",
        "        return faker.name_female()\n",
        "    \n",
        "    return faker.name()# Genera los nombres para cada usuario\n",
        "# Guarda los datos en el data frame en base a los generos asignados\n",
        "df['name'] = [name_gen(i) for i in df['gender']]"
      ]
    },
    {
      "cell_type": "markdown",
      "id": "fbbe6fc8",
      "metadata": {
        "id": "fbbe6fc8"
      },
      "source": [
        "Usé mi función simple para producir rápidamente una lista de nombres basada en los datos del atributo \"Género\" antes y la asigné al marco de datos."
      ]
    },
    {
      "cell_type": "markdown",
      "id": "4ae541de",
      "metadata": {
        "id": "4ae541de"
      },
      "source": [
        "**Email**"
      ]
    },
    {
      "cell_type": "markdown",
      "id": "e81f6c90",
      "metadata": {
        "id": "e81f6c90"
      },
      "source": [
        "Se creo una nueva función que daría formato a los nombres en direcciones de correo electrónico con un nombre de dominio predeterminado. La asignación del dominio sería exclusivo de la FIFA. También manejaría direcciones duplicadas simplemente agregando un número aleatorio al final del nombre formateado:"
      ]
    },
    {
      "cell_type": "code",
      "execution_count": 12,
      "id": "670b3855",
      "metadata": {
        "id": "670b3855"
      },
      "outputs": [],
      "source": [
        "def emailGen(name, duplicateFound=False):\n",
        "    \"\"\"\n",
        "    Generates a random email address based on the given name. \n",
        "    Adds a number at the end if a duplicate address was found.\n",
        "    \"\"\"\n",
        "    # Fake domain name to use\n",
        "    dom = \"@fifa.org\"\n",
        "    \n",
        "    # Lowercasing and splitting\n",
        "    name = name.lower().split(\" \")\n",
        "    \n",
        "    # Random character to insert in the name\n",
        "    chars = [\".\", \"_\"]\n",
        "    \n",
        "    new_name = name[0] + random.choice(chars) + name[1] \n",
        "    \n",
        "    # Further distinguishing the email if a duplicate was found\n",
        "    if duplicateFound:\n",
        "        \n",
        "        # Random number to insert at the end\n",
        "        num = random.randint(0,100)\n",
        "        \n",
        "        # Inserting at the end\n",
        "        new_name = new_name + str(num)\n",
        "        \n",
        "    # Returning the email address with the domain name attached\n",
        "    return new_name + dom"
      ]
    },
    {
      "cell_type": "markdown",
      "id": "c488a9f8",
      "metadata": {
        "id": "c488a9f8"
      },
      "source": [
        "Ahora, para aprovechar adecuadamente el propósito de esta función, creé un ciclo que volvería a ejecutar la función cuando fuera necesario mientras iteraba a través del atributo \"Nombre\". El ciclo seguiría volviendo a ejecutar la función hasta que se creara un nombre de correo electrónico único."
      ]
    },
    {
      "cell_type": "code",
      "execution_count": 13,
      "id": "97cd6b45",
      "metadata": {
        "id": "97cd6b45"
      },
      "outputs": [],
      "source": [
        "emails = []\n",
        "\n",
        "for name in df['name']:\n",
        "    \n",
        "    # Generating the email\n",
        "    email = emailGen(name)\n",
        "    \n",
        "    # Looping until a unique email is generated\n",
        "    while email in emails:\n",
        "        \n",
        "        # Creating an email with a random number\n",
        "        email = emailGen(name, duplicateFound=True)\n",
        "    \n",
        "    # Attaching the new email to the list\n",
        "    emails.append(email)\n",
        "    \n",
        "df['email'] = emails"
      ]
    },
    {
      "cell_type": "markdown",
      "id": "813169e8",
      "metadata": {
        "id": "813169e8"
      },
      "source": [
        "Después de generar todos los correos electrónicos, los asigné al atributo \"Correo electrónico\" del marco de datos. También puede hacer una verificación opcional para ver que cada correo electrónico sea único con el mismo método que las ID."
      ]
    },
    {
      "cell_type": "markdown",
      "id": "1ecb641a",
      "metadata": {
        "id": "1ecb641a"
      },
      "source": [
        "**Last Login**"
      ]
    },
    {
      "cell_type": "markdown",
      "id": "175d145c",
      "metadata": {
        "id": "175d145c"
      },
      "source": [
        "Este atributo ahora requiere un formato específico que se hizo más fácil con la utilización de la biblioteca de fecha y hora. Aquí quería que los usuarios tuvieran un historial de inicio de sesión durante el último mes más o menos. Usé otra función personalizada para ayudar:"
      ]
    },
    {
      "cell_type": "code",
      "execution_count": 14,
      "id": "8d954a24",
      "metadata": {
        "id": "8d954a24"
      },
      "outputs": [],
      "source": [
        "def randomtimes(start, end, n):\n",
        "    \"\"\"\n",
        "    Generates random time stamps based on a given amount between two time periods.\n",
        "    \"\"\"\n",
        "    # The timestamp format\n",
        "    frmt = \"%Y-%m-%d %H:%M:%S\"\n",
        "    \n",
        "    # Formatting the two time periods\n",
        "    stime = datetime.datetime.strptime(start, frmt)\n",
        "    etime = datetime.datetime.strptime(end, frmt)\n",
        "    \n",
        "    # Creating the pool for random times\n",
        "    td = etime - stime\n",
        "    \n",
        "    # Generating a list with the random times\n",
        "    times = [(random.random() * td + stime).strftime(frmt) for _ in range(n)]\n",
        "    \n",
        "    return times\n",
        "\n",
        "# Setting the start and end times\n",
        "start = \"2021-08-01 00:00:00\"\n",
        "\n",
        "end = \"2021-08-24 00:00:00\"\n",
        "\n",
        "df['last_login'] = randomtimes(start, end, num_users)"
      ]
    },
    {
      "cell_type": "markdown",
      "id": "fb2b963d",
      "metadata": {
        "id": "fb2b963d"
      },
      "source": [
        "La función básicamente genera una lista de marcas de tiempo entre dos horas dadas. Generó una lista de marcas de tiempo aleatorias para asignar al marco de datos."
      ]
    },
    {
      "cell_type": "markdown",
      "id": "cc8905e5",
      "metadata": {
        "id": "cc8905e5"
      },
      "source": [
        "**Date of Birth**"
      ]
    },
    {
      "cell_type": "markdown",
      "id": "f2cba8d5",
      "metadata": {
        "id": "f2cba8d5"
      },
      "source": [
        "Se cambio el formato de la hora eliminando la hora, los minutos y los segundos. Usando datetime nuevamente para ayudar a elegir aleatoriamente una fecha para cada usuario, pero esta vez el rango de tiempo comenzó desde 1970 hasta 1990 para obtener una buena distribución aleatoria de edades. El siguiente código es prácticamente el mismo que antes, pero con un formato y un intervalo de fechas diferentes:"
      ]
    },
    {
      "cell_type": "code",
      "execution_count": 15,
      "id": "07a97010",
      "metadata": {
        "id": "07a97010"
      },
      "outputs": [],
      "source": [
        "def random_dob(start, end, n):\n",
        "    \"\"\"\n",
        "    Generating a list of a set number of timestamps\n",
        "    \"\"\"\n",
        "    \n",
        "    # The timestamp format\n",
        "    frmt = \"%Y-%m-%d\"\n",
        "    \n",
        "    # Formatting the two time periods\n",
        "    stime = datetime.datetime.strptime(start, frmt)\n",
        "    etime = datetime.datetime.strptime(end, frmt)\n",
        "    \n",
        "    # Creating the pool for random times\n",
        "    td = etime - stime\n",
        "    \n",
        "    # Generating a list with the random times\n",
        "    times = [(random.random() * td + stime).strftime(frmt) for _ in range(n)]\n",
        "    \n",
        "    return times\n",
        "\n",
        "df['dob'] = random_dob(\"1970-01-01\", \"1990-01-01\", num_users)"
      ]
    },
    {
      "cell_type": "markdown",
      "id": "b15041c3",
      "metadata": {
        "id": "b15041c3"
      },
      "source": [
        "Usé la función random.choices() una vez más pero con los pesos sesgados hacia 1 y 5."
      ]
    },
    {
      "cell_type": "markdown",
      "id": "545e8963",
      "metadata": {
        "id": "545e8963"
      },
      "source": [
        "**Saving the Dataset**"
      ]
    },
    {
      "cell_type": "markdown",
      "id": "743e5aed",
      "metadata": {
        "id": "743e5aed"
      },
      "source": [
        "Ahora que los datos están completos y si estaba codificando, siéntase libre de ver el marco de datos antes de decidir guardarlo. Si todo se ve bien, guarde el marco de datos como un archivo .csv con este simple comando:"
      ]
    },
    {
      "cell_type": "code",
      "execution_count": 16,
      "id": "b746f91d",
      "metadata": {
        "id": "b746f91d"
      },
      "outputs": [],
      "source": [
        "df.to_csv('dataset_users.csv')"
      ]
    },
    {
      "cell_type": "code",
      "execution_count": 16,
      "id": "ea5400f3",
      "metadata": {
        "id": "ea5400f3"
      },
      "outputs": [],
      "source": []
    }
  ],
  "metadata": {
    "kernelspec": {
      "display_name": "Python 3 (ipykernel)",
      "language": "python",
      "name": "python3"
    },
    "language_info": {
      "codemirror_mode": {
        "name": "ipython",
        "version": 3
      },
      "file_extension": ".py",
      "mimetype": "text/x-python",
      "name": "python",
      "nbconvert_exporter": "python",
      "pygments_lexer": "ipython3",
      "version": "3.9.7"
    },
    "colab": {
      "provenance": []
    }
  },
  "nbformat": 4,
  "nbformat_minor": 5
}