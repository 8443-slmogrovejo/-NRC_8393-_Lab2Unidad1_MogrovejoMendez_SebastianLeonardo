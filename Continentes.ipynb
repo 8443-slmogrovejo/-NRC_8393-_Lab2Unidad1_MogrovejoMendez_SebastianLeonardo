{
  "cells": [
    {
      "cell_type": "markdown",
      "id": "3d59342e",
      "metadata": {
        "id": "3d59342e"
      },
      "source": [
        "# CONTINENTES - \"The Club Benefits Programme\" FIFA"
      ]
    },
    {
      "cell_type": "markdown",
      "id": "76e065cb",
      "metadata": {
        "id": "76e065cb"
      },
      "source": [
        "Generaremos los continentes que existen alrededor del mundo junto a su participación en el mundial."
      ]
    },
    {
      "cell_type": "markdown",
      "id": "c6482288",
      "metadata": {
        "id": "c6482288"
      },
      "source": [
        "# Construcción del conjunto de datos"
      ]
    },
    {
      "cell_type": "markdown",
      "id": "d02a8e8d",
      "metadata": {
        "id": "d02a8e8d"
      },
      "source": [
        "Para codificar, comience importando las siguientes bibliotecas:"
      ]
    },
    {
      "cell_type": "code",
      "execution_count": 1,
      "id": "97b3d6da",
      "metadata": {
        "colab": {
          "base_uri": "https://localhost:8080/"
        },
        "id": "97b3d6da",
        "outputId": "b1d2ac4c-c9f3-4b36-f994-7de8248158db"
      },
      "outputs": [
        {
          "output_type": "stream",
          "name": "stdout",
          "text": [
            "Looking in indexes: https://pypi.org/simple, https://us-python.pkg.dev/colab-wheels/public/simple/\n",
            "Collecting Faker\n",
            "  Downloading Faker-15.3.2-py3-none-any.whl (1.6 MB)\n",
            "\u001b[K     |████████████████████████████████| 1.6 MB 7.2 MB/s \n",
            "\u001b[?25hRequirement already satisfied: python-dateutil>=2.4 in /usr/local/lib/python3.7/dist-packages (from Faker) (2.8.2)\n",
            "Requirement already satisfied: typing-extensions>=3.10.0.1 in /usr/local/lib/python3.7/dist-packages (from Faker) (4.1.1)\n",
            "Requirement already satisfied: six>=1.5 in /usr/local/lib/python3.7/dist-packages (from python-dateutil>=2.4->Faker) (1.15.0)\n",
            "Installing collected packages: Faker\n",
            "Successfully installed Faker-15.3.2\n"
          ]
        }
      ],
      "source": [
        "!pip install Faker\n",
        "import pandas as pd\n",
        "import uuid\n",
        "import random\n",
        "from faker import Faker\n",
        "import datetime"
      ]
    },
    {
      "cell_type": "markdown",
      "id": "db21c16c",
      "metadata": {
        "id": "db21c16c"
      },
      "source": [
        "**Size**"
      ]
    },
    {
      "cell_type": "markdown",
      "id": "44ce2a03",
      "metadata": {
        "id": "44ce2a03"
      },
      "source": [
        "El tamaño del conjunto de datos será de 7 por cada continente y región, en este caso: Asia, África, América del Norte, América del Sur, Antártida, Europa y Oceanía."
      ]
    },
    {
      "cell_type": "code",
      "execution_count": 2,
      "id": "29f6b5ac",
      "metadata": {
        "id": "29f6b5ac"
      },
      "outputs": [],
      "source": [
        "num_continents = 7"
      ]
    },
    {
      "cell_type": "markdown",
      "id": "4f8ba686",
      "metadata": {
        "id": "4f8ba686"
      },
      "source": [
        "**Características**"
      ]
    },
    {
      "cell_type": "markdown",
      "id": "555a14da",
      "metadata": {
        "id": "555a14da"
      },
      "source": [
        "Elegí 4 características que esperaba que engloben lo necesario de cada continente. Estas características y los respectivos tipos de datos son:\n",
        "\n",
        "     - ID: una cadena única de caracteres para identificar a cada usuario.\n",
        "     - Assist (Asistencia:) una opción binaria Verdadero/Falso de su estado de participación.\n",
        "     - Name (Nombre:) tipo de datos de cadena del nombre del Continente.\n",
        "     - Representative (Representantes) tipo entero que determina su numero de paises representantes en el torneo."
      ]
    },
    {
      "cell_type": "markdown",
      "id": "17841653",
      "metadata": {
        "id": "17841653"
      },
      "source": [
        "Ingresé lo anterior como una lista de características para inicializar un marco de datos de Pandas:"
      ]
    },
    {
      "cell_type": "code",
      "execution_count": 3,
      "id": "5a145d81",
      "metadata": {
        "id": "5a145d81"
      },
      "outputs": [],
      "source": [
        "# A list of 10 features\n",
        "features = [\n",
        "    \"id\",\n",
        "    \"assist\",\n",
        "    \"name\",\n",
        "    \"representative\",\n",
        "]# Creating a DF for these features\n",
        "df = pd.DataFrame(columns=features)"
      ]
    },
    {
      "cell_type": "markdown",
      "id": "32e7f58f",
      "metadata": {
        "id": "32e7f58f"
      },
      "source": [
        "**Creación de datos**"
      ]
    },
    {
      "cell_type": "markdown",
      "id": "6707781a",
      "metadata": {
        "id": "6707781a"
      },
      "source": [
        "**IDs**"
      ]
    },
    {
      "cell_type": "markdown",
      "id": "57be8b83",
      "metadata": {
        "id": "57be8b83"
      },
      "source": [
        "Para el atributo ID, utilicé la biblioteca uuid para generar una cadena aleatoria de caracteres 100 000 veces. Luego, lo asigné al atributo ID en el marco de datos."
      ]
    },
    {
      "cell_type": "code",
      "execution_count": 4,
      "id": "9417eb1d",
      "metadata": {
        "id": "9417eb1d"
      },
      "outputs": [],
      "source": [
        "df['id'] = [uuid.uuid4().hex for i in range(num_continents)]"
      ]
    },
    {
      "cell_type": "markdown",
      "id": "92e30db5",
      "metadata": {
        "id": "92e30db5"
      },
      "source": [
        "**UUID es una gran biblioteca para generar identificaciones únicas para cada usuario debido a su posibilidad astronómicamente baja de duplicar una identificación.** Es una gran opción cuando se trata de generar conjuntos de caracteres de identificación únicos. Pero, si desea asegurarse de que no se repitieron las ID, puede realizar una verificación simple en el marco de datos con lo siguiente:"
      ]
    },
    {
      "cell_type": "code",
      "execution_count": 5,
      "id": "4be6d244",
      "metadata": {
        "colab": {
          "base_uri": "https://localhost:8080/"
        },
        "id": "4be6d244",
        "outputId": "63eaa38c-38e1-43b0-bd40-a46c44dfd29e"
      },
      "outputs": [
        {
          "output_type": "stream",
          "name": "stdout",
          "text": [
            "True\n"
          ]
        }
      ],
      "source": [
        "print(df['id'].nunique()==num_continents)"
      ]
    },
    {
      "cell_type": "markdown",
      "id": "a14229fb",
      "metadata": {
        "id": "a14229fb"
      },
      "source": [
        "Esto devolverá True si todas las ID en el conjunto de datos son únicas."
      ]
    },
    {
      "cell_type": "markdown",
      "id": "57f6abcf",
      "metadata": {
        "id": "57f6abcf"
      },
      "source": [
        "**Assist**"
      ]
    },
    {
      "cell_type": "markdown",
      "id": "06faf5ef",
      "metadata": {
        "id": "06faf5ef"
      },
      "source": [
        "Para este atributo, las opciones se pueden seleccionar aleatoriamente entre Verdadero y Falso. A pesar de que se sabe siempre desde un inicio qué continentes asistirán, se recreo este proceso para hacer uso de datos sinteticos."
      ]
    },
    {
      "cell_type": "code",
      "execution_count": 6,
      "id": "63766ad3",
      "metadata": {
        "id": "63766ad3"
      },
      "outputs": [],
      "source": [
        "choice = [True, False]\n",
        "df['assist'] = random.choices(\n",
        "    choice,\n",
        "    weights=(80,20), \n",
        "    k=num_continents\n",
        ")"
      ]
    },
    {
      "cell_type": "markdown",
      "id": "fd9b2e7f",
      "metadata": {
        "id": "fd9b2e7f"
      },
      "source": [
        "**Name**"
      ]
    },
    {
      "cell_type": "markdown",
      "id": "f5a065c3",
      "metadata": {
        "id": "f5a065c3"
      },
      "source": [
        "Declaramos los continentes antes mencionados."
      ]
    },
    {
      "cell_type": "code",
      "source": [
        "df['name'] = ['Europa', 'Asia', 'África', 'América del Norte', 'América del Sur', 'Antártida', 'Oceanía']"
      ],
      "metadata": {
        "id": "1PZhGpPFtwx3"
      },
      "id": "1PZhGpPFtwx3",
      "execution_count": 7,
      "outputs": []
    },
    {
      "cell_type": "markdown",
      "id": "ca9a071a",
      "metadata": {
        "id": "ca9a071a"
      },
      "source": [
        "**Representative**"
      ]
    },
    {
      "cell_type": "markdown",
      "id": "3e128c96",
      "metadata": {
        "id": "3e128c96"
      },
      "source": [
        "Aqui se seleccionarán a los representantes que presentarán los continentes. Una vez mas, esto con el afán de usar datos sintéticos ya que se sabe desde un inicio siempre los representantes de cada continente. Pero para su correcto uso, utilizamos un condicional que evite asignar representantes en caso de que dicho país no asista al mundial."
      ]
    },
    {
      "cell_type": "code",
      "source": [
        "def repre_none(assist):\n",
        "    \"\"\"\n",
        "    Ponemos en 0 los representantes en caso de que no vaya al mundial\n",
        "    \"\"\"\n",
        "    if assist== False:\n",
        "        return 0\n",
        "    else:\n",
        "        return random.choices([4,5,13], weights=(40,50,10), k=1)[0]\n",
        "\n",
        "df['representative'] = [repre_none(i) for i in df['assist']]"
      ],
      "metadata": {
        "id": "Q4eKS__ewBmO"
      },
      "id": "Q4eKS__ewBmO",
      "execution_count": 8,
      "outputs": []
    },
    {
      "cell_type": "markdown",
      "id": "b15041c3",
      "metadata": {
        "id": "b15041c3"
      },
      "source": [
        "Usando la función random.choices() una vez más pero con los representantes de 4,5 o 13. Dado que es así para los continentes segun la FIFA."
      ]
    },
    {
      "cell_type": "markdown",
      "id": "545e8963",
      "metadata": {
        "id": "545e8963"
      },
      "source": [
        "**Saving the Dataset**"
      ]
    },
    {
      "cell_type": "markdown",
      "id": "743e5aed",
      "metadata": {
        "id": "743e5aed"
      },
      "source": [
        "Ahora que los datos están completos y si estaba codificando, siéntase libre de ver el marco de datos antes de decidir guardarlo. Si todo se ve bien, guarde el marco de datos como un archivo .csv con este simple comando:"
      ]
    },
    {
      "cell_type": "code",
      "execution_count": 9,
      "id": "b746f91d",
      "metadata": {
        "id": "b746f91d"
      },
      "outputs": [],
      "source": [
        "df.to_csv('dataset_continents.csv')"
      ]
    },
    {
      "cell_type": "code",
      "execution_count": 9,
      "id": "ea5400f3",
      "metadata": {
        "id": "ea5400f3"
      },
      "outputs": [],
      "source": []
    }
  ],
  "metadata": {
    "kernelspec": {
      "display_name": "Python 3 (ipykernel)",
      "language": "python",
      "name": "python3"
    },
    "language_info": {
      "codemirror_mode": {
        "name": "ipython",
        "version": 3
      },
      "file_extension": ".py",
      "mimetype": "text/x-python",
      "name": "python",
      "nbconvert_exporter": "python",
      "pygments_lexer": "ipython3",
      "version": "3.9.7"
    },
    "colab": {
      "provenance": []
    }
  },
  "nbformat": 4,
  "nbformat_minor": 5
}